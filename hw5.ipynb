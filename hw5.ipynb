{
 "cells": [
  {
   "cell_type": "markdown",
   "metadata": {},
   "source": [
    "# Homework 5: Mini Project\n",
    "\n",
    "<br>\n",
    "\n",
    "**CS 412 Introduction to Machine Learning, Fall 2018**\n",
    "\n",
    "**University of Illinois at Chicago**\n",
    "\n",
    "<br>\n",
    "\n",
    "*Due December 7, 2018, 11:59 PM*\n",
    "<hr>\n",
    "\n",
    "## Selected option\n",
    "\n",
    "**Option 1:**\n",
    "\n",
    "You are working for a non-profit that is recruiting student volunteers to help with Alzheimer's patients. You have been tasked with predicting how suitable a person is for this task by predicting how empathetic he or she is. Using the Young People Survey dataset (https://www.kaggle.com/miroslavsabo/young-people-survey/), predict a person's \"Empathy\" as either \"very empathetic\" (answers 4 and 5) or \"not very empathetic\" (answers 1, 2, and 3). You can use any of the other attributes in the dataset to make this prediction; however, you should not handpick the predictive features but let an algorithm select them. "
   ]
  }
 ],
 "metadata": {
  "kernelspec": {
   "display_name": "Python 3",
   "language": "python",
   "name": "python3"
  },
  "language_info": {
   "codemirror_mode": {
    "name": "ipython",
    "version": 3
   },
   "file_extension": ".py",
   "mimetype": "text/x-python",
   "name": "python",
   "nbconvert_exporter": "python",
   "pygments_lexer": "ipython3",
   "version": "3.6.5"
  }
 },
 "nbformat": 4,
 "nbformat_minor": 2
}
